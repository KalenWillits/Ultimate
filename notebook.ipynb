{
 "cells": [
  {
   "cell_type": "markdown",
   "metadata": {
    "nteract": {
     "transient": {
      "deleting": false
     }
    }
   },
   "source": [
    "# Ultimate Challenge Notebook\n",
    "## Part 1 Exploratory Data Analysis\n"
   ]
  },
  {
   "cell_type": "markdown",
   "metadata": {
    "nteract": {
     "transient": {
      "deleting": false
     }
    }
   },
   "source": [
    "### Table of Contents\n",
    "- [Transforming The Login Data Into 15-Minute Bins](#Transforming-The-Login-Data-Into-15-Minute-Bins)\n",
    "- [Part 1 Exploratory data analysis](#Part-1-Exploratory-data-analysis)\n",
    "  - [Visualizing Binned Login Data](#Visualizing-Binned-Login-Data)\n",
    "  - [Observations](#Observations)\n",
    "- [Part 2 Experiment and metrics design](#Part-2-Experiment-and-metrics-design)\n",
    "  - [Measuring Success](#Measuring-Success)\n",
    "  - [Practical Experiment](#Practical-Experiment)\n",
    "- [Part 3 Predictive Modeling](#Part-3-Predictive-Modeling)\n"
   ]
  },
  {
   "cell_type": "markdown",
   "metadata": {
    "nteract": {
     "transient": {
      "deleting": false
     }
    }
   },
   "source": [
    "Part 1 Exploratory data analysis\n",
    "### Transforming The Login Data Into 15-Minute Bins\n"
   ]
  },
  {
   "cell_type": "code",
   "execution_count": 1,
   "metadata": {
    "jupyter": {
     "outputs_hidden": false,
     "source_hidden": false
    },
    "nteract": {
     "transient": {
      "deleting": false
     }
    }
   },
   "outputs": [],
   "source": [
    "# __Environment__\n",
    "import numpy as np\n",
    "import pandas as pd\n",
    "import seaborn as sns\n",
    "from tqdm import tqdm\n",
    "from sklearn.model_selection import train_test_split, GridSearchCV\n",
    "from sklearn.linear_model import LogisticRegression\n",
    "from sklearn.metrics import accuracy_score\n",
    "\n",
    "cd_data = 'data/'\n",
    "cd_figures = 'figures/'\n",
    "\n",
    "# __Custom_Functions__\n",
    "if __name__ == '__main__':\n",
    "    from library import *\n"
   ]
  },
  {
   "cell_type": "code",
   "execution_count": 2,
   "metadata": {
    "jupyter": {
     "outputs_hidden": false,
     "source_hidden": false
    },
    "nteract": {
     "transient": {
      "deleting": false
     }
    }
   },
   "outputs": [
    {
     "name": "stdout",
     "output_type": "stream",
     "text": [
      "Batch Size:  9314 \n",
      "Batches:  10 \n",
      "Original:  93142\n"
     ]
    }
   ],
   "source": [
    "# __Load_and_Prepare_Data__\n",
    "logins_df = import_logins(cd_data+'logins.json')\n",
    "logins_to_time = pd.to_datetime(logins_df['login_time'])\n",
    "logins_df_batched = batch_data(logins_to_time)\n"
   ]
  },
  {
   "cell_type": "code",
   "execution_count": 3,
   "metadata": {
    "jupyter": {
     "outputs_hidden": false,
     "source_hidden": false
    },
    "nteract": {
     "transient": {
      "deleting": false
     }
    }
   },
   "outputs": [
    {
     "name": "stderr",
     "output_type": "stream",
     "text": [
      "10it [00:10,  1.06s/it]\n"
     ]
    }
   ],
   "source": [
    "# __Processing_Data__\n",
    "batch_engine = process_batch(logins_df_batched, bin_datetimes)\n",
    "\n",
    "stage_processed_data = []\n",
    "for batch in tqdm(batch_engine):\n",
    "    stage_processed_data.append(batch)\n",
    "\n",
    "logins = pd.concat(stage_processed_data)\n",
    "logins.to_csv(cd_data+'logins_binned.csv', index=False)"
   ]
  },
  {
   "cell_type": "markdown",
   "metadata": {
    "nteract": {
     "transient": {
      "deleting": false
     }
    }
   },
   "source": [
    "### Visualizing Binned Login Data\n"
   ]
  },
  {
   "cell_type": "code",
   "execution_count": 4,
   "metadata": {
    "jupyter": {
     "outputs_hidden": false,
     "source_hidden": false
    },
    "nteract": {
     "transient": {
      "deleting": false
     }
    }
   },
   "outputs": [
    {
     "data": {
      "image/png": "[encoded data removed]",
      "text/plain": [
       "<Figure size 1440x720 with 1 Axes>"
      ]
     },
     "metadata": {
      "needs_background": "light"
     },
     "output_type": "display_data"
    }
   ],
   "source": [
    "# __Data_Visualization__\n",
    "plot_bins(logins, path=cd_figures)\n"
   ]
  },
  {
   "cell_type": "markdown",
   "metadata": {
    "nteract": {
     "transient": {
      "deleting": false
     }
    }
   },
   "source": [
    "### Observations\n",
    "The data shows that there are trends every seven days where user activity spikes. During the week the login activity sharply moves downward. There is also slight seasonal activity showing an overall ebb peaking on March 1st. This trend suggests predictability and is a good candidate for using machine learning.\n"
   ]
  },
  {
   "cell_type": "markdown",
   "metadata": {
    "nteract": {
     "transient": {
      "deleting": false
     }
    }
   },
   "source": [
    "## Part 2 Experiment and metrics design"
   ]
  },
  {
   "cell_type": "markdown",
   "metadata": {
    "nteract": {
     "transient": {
      "deleting": false
     }
    }
   },
   "source": [
    "### Measuring Success\n",
    "The measure of success for this experiment could be both location vs local driver data and the number of tolls reimbursed. If tolls reimbursed and drivers left their local city for pickups and drop-offs by measurable amount x, then the experiment would be a success. If driver's stay in the same local routes and do not get reimbursed for tolls, then other factors are keeping the drivers from moving cities.\n",
    "\n",
    "A secondary factor to keep in mind during the experiment is if the pilot program for toll reimbursement is generating more net income after reimbursing the tolls. If net income dips below current metrics the pilot toll reimbursement program would be a failure.\n",
    "*x would be defined after analyzing current driver data.*\n"
   ]
  },
  {
   "cell_type": "markdown",
   "metadata": {
    "nteract": {
     "transient": {
      "deleting": false
     }
    }
   },
   "source": [
    "### Practical Experiment\n",
    "There will two populations in our experiment, the control population and the pilot population.\n",
    "- Test variables are: [Location vs Local activity, Toll reimbursements, Driver commission, revenue generated, When Active]\n",
    "- The control population will be randomly selected drivers currently in the system that is not in the pilot population.\n",
    "- The pilot population will be randomly selected drivers that are not in the control population and will get to use the new feature of toll reimbursement.\n",
    "- After one month of gathering data on the population we can analyze the test variables against the pilot variables and assess to launch toll reimbursement, cancel toll reimbursement, or continue the experiment.\n",
    "> Testing would involve finding which variables attribute to a higher net income and predicting that income using the entire driver population. The model to use for prediction would be trained on the pilot population data.\n",
    "*I wouldn't want to commit to a specific model or test at this time until several different variations have been tried and tested for accuracy.*\n",
    "Experiment results will be documented in an easy-to-read news-article format explaining how well the pilot drivers adopted the program, and the difference in income generated between both populations. The article will include a explanation of the experiment and visualizations on key metrics. A presentation will be prepared for those who have been briefed with the article to go over questions and deliver recommendations.\n"
   ]
  },
  {
   "cell_type": "markdown",
   "metadata": {
    "nteract": {
     "transient": {
      "deleting": false
     }
    }
   },
   "source": [
    "## Part 3 ‐ Predictive Modeling\n"
   ]
  },
  {
   "cell_type": "code",
   "execution_count": 5,
   "metadata": {
    "jupyter": {
     "outputs_hidden": false,
     "source_hidden": false
    },
    "nteract": {
     "transient": {
      "deleting": false
     }
    }
   },
   "outputs": [],
   "source": [
    "# __Data_Cleaning__\n",
    "rider_df = pd.read_json(cd_data+'ultimate_data_challenge.json')\n",
    "\n",
    "# Replacing the Nan values with the mean in the avg_rating_by_driver columns\n",
    "rider_df['avg_rating_by_driver'].fillna(np.mean(rider_df['avg_rating_by_driver']), inplace=True)\n",
    "\n",
    "# Replacing the missing driver ratings with the mean.\n",
    "rider_df['avg_rating_of_driver'].fillna(np.mean(rider_df['avg_rating_of_driver']), inplace=True)\n",
    "\n",
    "# Dropping all observations without a phone type.\n",
    "rider_df.dropna(inplace=True)\n",
    "\n",
    "# One-hot encoding of the city and phone columns\n",
    "rider_encoded_df = one_hot(rider_df, ['city', 'phone', 'ultimate_black_user'])\n",
    "\n",
    "# Changing datetimes from strings to datetimes.\n",
    "datetime_strings = ['signup_date', 'last_trip_date']\n",
    "\n",
    "rider_encoded_df['signup_date'] = pd.to_datetime(rider_encoded_df['signup_date'])\n",
    "rider_encoded_df['last_trip_date'] = pd.to_datetime(rider_encoded_df['last_trip_date'])\n",
    "\n",
    "# Aliasing the dataframe for exploration\n",
    "re_df = rider_encoded_df\n",
    "# Remving outliers\n",
    "re_df[re_df['trips_in_first_30_days'] >= re_df['trips_in_first_30_days'].std()*3] = np.mean(re_df['trips_in_first_30_days'])"
   ]
  },
  {
   "cell_type": "code",
   "execution_count": 6,
   "metadata": {
    "jupyter": {
     "outputs_hidden": false,
     "source_hidden": false
    },
    "nteract": {
     "transient": {
      "deleting": false
     }
    }
   },
   "outputs": [
    {
     "data": {
      "text/plain": [
       "<matplotlib.axes._subplots.AxesSubplot at 0x7f9b07027210>"
      ]
     },
     "execution_count": 6,
     "metadata": {},
     "output_type": "execute_result"
    },
    {
     "data": {
      "image/png": "[encoded data removed]",
      "text/plain": [
       "<Figure size 432x288 with 2 Axes>"
      ]
     },
     "metadata": {
      "needs_background": "light"
     },
     "output_type": "display_data"
    }
   ],
   "source": [
    "sns.heatmap(rider_encoded_df.corr())"
   ]
  },
  {
   "cell_type": "code",
   "execution_count": 7,
   "metadata": {
    "jupyter": {
     "outputs_hidden": false,
     "source_hidden": false
    },
    "nteract": {
     "transient": {
      "deleting": false
     }
    }
   },
   "outputs": [
    {
     "data": {
      "image/png": "[encoded data removed]",
      "text/plain": [
       "<Figure size 576x432 with 1 Axes>"
      ]
     },
     "metadata": {
      "needs_background": "light"
     },
     "output_type": "display_data"
    }
   ],
   "source": [
    "plt.figure(figsize=(8,6))\n",
    "plt.title('avg_rating_by_driver'+'__vs__'+'trips_in_first_30_days')\n",
    "plt.scatter(re_df['avg_rating_by_driver'], re_df['trips_in_first_30_days'], color='black')\n",
    "plt.xlabel('avg_rating_by_driver')\n",
    "plt.ylabel('trips_in_first_30_days')\n",
    "plt.savefig(cd_figures+'ratings_vs_trips.png', transparent=True)\n"
   ]
  },
  {
   "cell_type": "code",
   "execution_count": 8,
   "metadata": {
    "jupyter": {
     "outputs_hidden": false,
     "source_hidden": false
    },
    "nteract": {
     "transient": {
      "deleting": false
     }
    }
   },
   "outputs": [
    {
     "name": "stdout",
     "output_type": "stream",
     "text": [
      "The retention of users after the first 30 days is 55.41%\n"
     ]
    }
   ],
   "source": [
    "num_users = len(re_df['signup_date'])\n",
    "active_users = re_df[re_df['trips_in_first_30_days'] > 0]['trips_in_first_30_days'].sum()\n",
    "retention_of_users = num_users/active_users\n",
    "print('The retention of users after the first 30 days is {0}%'.format(round(retention_of_users*100, 2), '%'))\n"
   ]
  },
  {
   "cell_type": "code",
   "execution_count": 9,
   "metadata": {
    "jupyter": {
     "outputs_hidden": false,
     "source_hidden": false
    },
    "nteract": {
     "transient": {
      "deleting": false
     }
    }
   },
   "outputs": [
    {
     "data": {
      "text/plain": [
       "'Commenting out to increase runtime speed when restarting kernel'"
      ]
     },
     "execution_count": 9,
     "metadata": {},
     "output_type": "execute_result"
    }
   ],
   "source": [
    "# plt.figure(figsize=(8,6))\n",
    "# title = x.name + ' vs ' + y.name\n",
    "# plt.title(title.title())\n",
    "# x = re_df['avg_dist']\n",
    "# y = re_df['trips_in_first_30_days']\n",
    "# plt.scatter(y, x)\n",
    "# plt.xlabel(x.name)\n",
    "# plt.ylabel(y.name)\n",
    "# plt.save_fig(cd_figures+title.replace(' ', '_')+'.png')\n",
    "#\n",
    "# series_list = []\n",
    "# for column in re_df.columns.to_list():\n",
    "#     series_list.append(re_df[column])\n",
    "\"\"\"Commenting out to increase runtime speed when restarting kernel\"\"\"\n",
    "# plt.figure(figsize=(40,35))\n",
    "# sns.pairplot(re_df)\n",
    "# plt.savefig(cd_figures+'pairplot.png', transparent=True)"
   ]
  },
  {
   "cell_type": "markdown",
   "metadata": {
    "nteract": {
     "transient": {
      "deleting": false
     }
    }
   },
   "source": [
    "### Observations\n",
    "There are not any apparent correlations with the a positive trip in the next 30 days.\n",
    "However, there is a positive trend with avg_rating_by_driver and an active user and there is a negative trend with avg_surge and an active user.\n",
    "This suggests that participation and availability increases user activity.\n",
    "**Unfortunately the trend with avg_rating_by_driver is almost worthless because that data can only be generated by an active user.**\n",
    "So let's plan to reduce the avg_surge to increase user retention.\n",
    "Another way to look at this, is to add more drivers which will increase availability and rider user retention.\n"
   ]
  },
  {
   "cell_type": "markdown",
   "metadata": {
    "nteract": {
     "transient": {
      "deleting": false
     }
    }
   },
   "source": [
    "### Part 3 Predictive Modeling\n",
    "Unfortunately, this data is not good for prediction.\n",
    "There are not any strong correlations that are practical cause and affects of user retention and further experiments must be done before attempting to predict active users. We can measure participation, but this an effect of activity and does not cause user activity.\n",
    "\n",
    "Ultimate should run A/B tests and pilot projects to search for factors that correlate to user retention.\n",
    "Possible pilots include:\n",
    "- Rider miles: where active users earn miles the more they use the service.\n",
    "- Subscription options: Users will pay a subscription fee instead of paying for each ride.\n",
    "- Partnering with large events: Allowing venues to pay for Ultimate drivers as a shuttle service instead of users."
   ]
  }
 ],
 "metadata": {
  "kernelspec": {
   "display_name": "Python 3",
   "language": "python",
   "name": "python3"
  },
  "language_info": {
   "codemirror_mode": {
    "name": "ipython",
    "version": 3
   },
   "file_extension": ".py",
   "mimetype": "text/x-python",
   "name": "python",
   "nbconvert_exporter": "python",
   "pygments_lexer": "ipython3",
   "version": "3.7.6"
  }
 },
 "nbformat": 4,
 "nbformat_minor": 1
}
